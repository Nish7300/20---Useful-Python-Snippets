{
 "cells": [
  {
   "cell_type": "markdown",
   "id": "a2f15baf",
   "metadata": {},
   "source": [
    "## 1. Calculating Mean"
   ]
  },
  {
   "cell_type": "code",
   "execution_count": 20,
   "id": "2a3f59da",
   "metadata": {},
   "outputs": [],
   "source": [
    "import statistics"
   ]
  },
  {
   "cell_type": "code",
   "execution_count": 22,
   "id": "92179e4e",
   "metadata": {},
   "outputs": [
    {
     "name": "stdout",
     "output_type": "stream",
     "text": [
      "Mean: 43\n"
     ]
    }
   ],
   "source": [
    "data = [ 20,45,55,13,82]\n",
    "mean= statistics.mean(data)\n",
    "print(\"Mean:\", mean)"
   ]
  },
  {
   "cell_type": "markdown",
   "id": "a784372e",
   "metadata": {},
   "source": [
    "## 2. Calculating Median"
   ]
  },
  {
   "cell_type": "code",
   "execution_count": 24,
   "id": "77407726",
   "metadata": {},
   "outputs": [
    {
     "name": "stdout",
     "output_type": "stream",
     "text": [
      "Median: 30\n"
     ]
    }
   ],
   "source": [
    "data = [10,20,30,40,50]\n",
    "median= statistics.median(data)\n",
    "print(\"Median:\", median)"
   ]
  },
  {
   "cell_type": "markdown",
   "id": "065f0966",
   "metadata": {},
   "source": [
    "# 3.  Calculating Mode"
   ]
  },
  {
   "cell_type": "code",
   "execution_count": 31,
   "id": "38938bb3",
   "metadata": {},
   "outputs": [
    {
     "name": "stdout",
     "output_type": "stream",
     "text": [
      "Mode: 10\n"
     ]
    }
   ],
   "source": [
    "data= [10,20,30,40,50,60]\n",
    "mode= statistics.mode(data)\n",
    "print(\"Mode:\",mode)"
   ]
  },
  {
   "cell_type": "markdown",
   "id": "85f580c4",
   "metadata": {},
   "source": [
    "# 4. Calcuting Variance"
   ]
  },
  {
   "cell_type": "code",
   "execution_count": 35,
   "id": "206d047a",
   "metadata": {},
   "outputs": [
    {
     "name": "stdout",
     "output_type": "stream",
     "text": [
      "Variance: 3.5\n"
     ]
    }
   ],
   "source": [
    "data = [1,2,3,4,5,6]\n",
    "variance = statistics.variance(data)\n",
    "print(\"Variance:\", variance)"
   ]
  },
  {
   "cell_type": "markdown",
   "id": "65057200",
   "metadata": {},
   "source": [
    "# 5. Calculating Standard Deviation"
   ]
  },
  {
   "cell_type": "code",
   "execution_count": 36,
   "id": "df89f662",
   "metadata": {},
   "outputs": [
    {
     "name": "stdout",
     "output_type": "stream",
     "text": [
      "Standard Deviation 3.0276503540974917\n"
     ]
    }
   ],
   "source": [
    "data = [ 1,2,3,4,5,6,7,8,9,10]\n",
    "sd= statistics.stdev(data)\n",
    "print('Standard Deviation', sd)"
   ]
  },
  {
   "cell_type": "markdown",
   "id": "b56db957",
   "metadata": {},
   "source": [
    "# 6. Calculating Quantiles"
   ]
  },
  {
   "cell_type": "code",
   "execution_count": 39,
   "id": "88ab8e83",
   "metadata": {},
   "outputs": [
    {
     "name": "stdout",
     "output_type": "stream",
     "text": [
      " First Quartile (Q1): 2.75\n",
      "Third Quartile (Q3): 8.25\n"
     ]
    }
   ],
   "source": [
    "data1= [1,2,3,4,5,6,7,8,9,10]\n",
    "qua1=statistics.quantiles( data1, n=4)[0]\n",
    "qua2= statistics.quantiles(data1, n=4)[-1]\n",
    "print(' First Quartile (Q1):' , qua1)\n",
    "print('Third Quartile (Q3):', qua2)"
   ]
  },
  {
   "cell_type": "markdown",
   "id": "9d4829b5",
   "metadata": {},
   "source": [
    "# 7. Calculating Correlation Coefficient "
   ]
  },
  {
   "cell_type": "code",
   "execution_count": 43,
   "id": "68d7c736",
   "metadata": {},
   "outputs": [
    {
     "name": "stdout",
     "output_type": "stream",
     "text": [
      "Correlation Coefficient: 1.0\n"
     ]
    }
   ],
   "source": [
    "data2= [ 10,20,30,40,50]\n",
    "data3= [50,60,70,80,90]\n",
    "corr_coeff= statistics.correlation(data2, data3)\n",
    "print(\"Correlation Coefficient:\", corr_coeff)"
   ]
  },
  {
   "cell_type": "code",
   "execution_count": null,
   "id": "84ac7e1c",
   "metadata": {},
   "outputs": [],
   "source": []
  }
 ],
 "metadata": {
  "kernelspec": {
   "display_name": "Python 3 (ipykernel)",
   "language": "python",
   "name": "python3"
  },
  "language_info": {
   "codemirror_mode": {
    "name": "ipython",
    "version": 3
   },
   "file_extension": ".py",
   "mimetype": "text/x-python",
   "name": "python",
   "nbconvert_exporter": "python",
   "pygments_lexer": "ipython3",
   "version": "3.11.5"
  }
 },
 "nbformat": 4,
 "nbformat_minor": 5
}
