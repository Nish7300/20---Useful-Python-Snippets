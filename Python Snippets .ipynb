{
 "cells": [
  {
   "cell_type": "markdown",
   "id": "a31180d1",
   "metadata": {},
   "source": [
    "# Reversing A String"
   ]
  },
  {
   "cell_type": "code",
   "execution_count": 1,
   "id": "296eda2f",
   "metadata": {},
   "outputs": [
    {
     "name": "stdout",
     "output_type": "stream",
     "text": [
      "tnahsiN olleH \n"
     ]
    }
   ],
   "source": [
    "string= ' Hello Nishant'\n",
    "reversed_string= string[::-1]\n",
    "print(reversed_string)"
   ]
  },
  {
   "cell_type": "markdown",
   "id": "1626d027",
   "metadata": {},
   "source": [
    "# Cheaking is a sting contains a substring"
   ]
  },
  {
   "cell_type": "code",
   "execution_count": 2,
   "id": "7be5bfb5",
   "metadata": {},
   "outputs": [
    {
     "name": "stdout",
     "output_type": "stream",
     "text": [
      "Substring_found!\n"
     ]
    }
   ],
   "source": [
    "string= ' Hello Nishant Tiwari'\n",
    "substring= 'Tiwari'\n",
    "if substring in string:\n",
    "    print('Substring_found!')"
   ]
  },
  {
   "cell_type": "markdown",
   "id": "6915eb8a",
   "metadata": {},
   "source": [
    "# Finding the maximum value in a list"
   ]
  },
  {
   "cell_type": "code",
   "execution_count": 54,
   "id": "945fdcfa",
   "metadata": {},
   "outputs": [
    {
     "name": "stdout",
     "output_type": "stream",
     "text": [
      "10\n"
     ]
    }
   ],
   "source": [
    "list1= [1,2,3,4,5,6,7,8,9,10]\n",
    "max_value= max(list1)\n",
    "print(max_value)"
   ]
  },
  {
   "cell_type": "markdown",
   "id": "30987fdf",
   "metadata": {},
   "source": [
    "# Finding the index maximum value in a list"
   ]
  },
  {
   "cell_type": "code",
   "execution_count": 55,
   "id": "08c5299c",
   "metadata": {},
   "outputs": [
    {
     "name": "stdout",
     "output_type": "stream",
     "text": [
      "9\n"
     ]
    }
   ],
   "source": [
    "list2= [1,2,3,4,5,6,7,8,9,10]\n",
    "max_index= list2.index(max(list2))\n",
    "print(max_index)"
   ]
  },
  {
   "cell_type": "markdown",
   "id": "35a45837",
   "metadata": {},
   "source": [
    "# Reversing a List:"
   ]
  },
  {
   "cell_type": "code",
   "execution_count": 5,
   "id": "5d71b6e3",
   "metadata": {},
   "outputs": [
    {
     "name": "stdout",
     "output_type": "stream",
     "text": [
      "[9, 8, 7, 6, 5, 4, 3, 2, 1]\n"
     ]
    }
   ],
   "source": [
    "list3=[1,2,3,4,5,6,7,8,9]\n",
    "reversed_list= list3[::-1]\n",
    "print(reversed_list)"
   ]
  },
  {
   "cell_type": "markdown",
   "id": "4abefefc",
   "metadata": {},
   "source": [
    "# Remove duplicates from a list"
   ]
  },
  {
   "cell_type": "code",
   "execution_count": 6,
   "id": "fa29e8f2",
   "metadata": {},
   "outputs": [
    {
     "name": "stdout",
     "output_type": "stream",
     "text": [
      "[1, 2, 3, 4, 5]\n"
     ]
    }
   ],
   "source": [
    "my_list = [1, 2, 3, 2, 1, 4, 5, 4]\n",
    "unique_list = []\n",
    "for item in my_list:\n",
    "    if item not in unique_list:\n",
    "        unique_list.append(item)\n",
    "print(unique_list)"
   ]
  },
  {
   "cell_type": "markdown",
   "id": "7a5d4892",
   "metadata": {},
   "source": [
    "# Checking if a list is empty:"
   ]
  },
  {
   "cell_type": "code",
   "execution_count": 7,
   "id": "9aee1c11",
   "metadata": {},
   "outputs": [
    {
     "name": "stdout",
     "output_type": "stream",
     "text": [
      "List is empty\n"
     ]
    }
   ],
   "source": [
    "my_list= []\n",
    "if not my_list:\n",
    "    print('List is empty')"
   ]
  },
  {
   "cell_type": "markdown",
   "id": "9c134dfb",
   "metadata": {},
   "source": [
    "# Converting a string to a list"
   ]
  },
  {
   "cell_type": "code",
   "execution_count": 8,
   "id": "6f91b71a",
   "metadata": {},
   "outputs": [
    {
     "name": "stdout",
     "output_type": "stream",
     "text": [
      "[' ', 'H', 'e', 'l', 'l', 'o', ' ', 'N', 'i', 's', 'h', 'a', 'n', 't']\n"
     ]
    }
   ],
   "source": [
    "a= ' Hello Nishant'\n",
    "my_list=list(a)\n",
    "print(my_list)"
   ]
  },
  {
   "cell_type": "markdown",
   "id": "25ad2c49",
   "metadata": {},
   "source": [
    "# Shorting a dictonary by value"
   ]
  },
  {
   "cell_type": "code",
   "execution_count": 11,
   "id": "b3d08a37",
   "metadata": {},
   "outputs": [
    {
     "name": "stdout",
     "output_type": "stream",
     "text": [
      "{' Ayant': 1, 'Prashant': 21, 'Nishant': 26}\n"
     ]
    }
   ],
   "source": [
    "dict= {'Nishant' : 26, 'Prashant' : 21, \" Ayant\" : 1}\n",
    "sorted_dict= {k: v for k, v in sorted ( dict.items(), key= lambda item: item[1])}\n",
    "print(sorted_dict)"
   ]
  },
  {
   "cell_type": "markdown",
   "id": "a437ba5d",
   "metadata": {},
   "source": [
    "# Cheacking if a file exists:"
   ]
  },
  {
   "cell_type": "code",
   "execution_count": 17,
   "id": "28daa640",
   "metadata": {},
   "outputs": [],
   "source": [
    "import os\n",
    "if os.path.isfile('file.txt'):\n",
    "    print('File exists!')"
   ]
  },
  {
   "cell_type": "markdown",
   "id": "7bca079e",
   "metadata": {},
   "source": [
    "# Counting occurrences of an item in a list:"
   ]
  },
  {
   "cell_type": "code",
   "execution_count": 21,
   "id": "0956c1c9",
   "metadata": {},
   "outputs": [
    {
     "name": "stdout",
     "output_type": "stream",
     "text": [
      "4\n"
     ]
    }
   ],
   "source": [
    "my_list= [1,2,3,1,2,3,4,4,4,5,4]\n",
    "count= my_list.count(4)\n",
    "print(count)"
   ]
  },
  {
   "cell_type": "markdown",
   "id": "cade20c3",
   "metadata": {},
   "source": [
    "# Checking if all elements in a list are unique"
   ]
  },
  {
   "cell_type": "code",
   "execution_count": 23,
   "id": "53f5f2c4",
   "metadata": {},
   "outputs": [],
   "source": [
    "my_list1= [1,2,3,4,5]\n",
    "if len(my_list)== len(set(my_list1)):\n",
    "    print('All elements are unique!')"
   ]
  },
  {
   "cell_type": "markdown",
   "id": "4f3f4482",
   "metadata": {},
   "source": [
    "# Removing all occurrences of an item from a list:"
   ]
  },
  {
   "cell_type": "code",
   "execution_count": 27,
   "id": "65d817aa",
   "metadata": {},
   "outputs": [
    {
     "name": "stdout",
     "output_type": "stream",
     "text": [
      "[11, 12, 12, 13, 15, 16]\n"
     ]
    }
   ],
   "source": [
    "my_list2= [11,12,14,14,14,12,13,14,14,15,16]\n",
    "item = 14\n",
    "my_list2= [x for x in my_list2 if x != item]\n",
    "print(my_list2)"
   ]
  },
  {
   "cell_type": "markdown",
   "id": "df1e7216",
   "metadata": {},
   "source": [
    "# Flattening a nested list:"
   ]
  },
  {
   "cell_type": "code",
   "execution_count": 32,
   "id": "3750ce04",
   "metadata": {},
   "outputs": [
    {
     "name": "stdout",
     "output_type": "stream",
     "text": [
      "[11, 12, 13, 14, 15, 16]\n"
     ]
    }
   ],
   "source": [
    "my_list4= [[11,12], [13,14], [15,16]]\n",
    "flattened_list= [x for sublist in my_list4 for x in sublist]\n",
    "print(flattened_list )"
   ]
  },
  {
   "cell_type": "markdown",
   "id": "1a061798",
   "metadata": {},
   "source": [
    "# Marging 2 dictionaries"
   ]
  },
  {
   "cell_type": "code",
   "execution_count": 35,
   "id": "47553ece",
   "metadata": {},
   "outputs": [
    {
     "name": "stdout",
     "output_type": "stream",
     "text": [
      "{'Apple': 2, 'Banana': 4, 'Orange': 4, 'Pear': 5}\n"
     ]
    }
   ],
   "source": [
    "dict1= {'Apple': 2, 'Banana': 4}\n",
    "dict2 = {'Orange': 4, 'Pear': 5}\n",
    "marged_dict= {**dict1, **dict2}\n",
    "print(marged_dict)"
   ]
  },
  {
   "cell_type": "markdown",
   "id": "7118147b",
   "metadata": {},
   "source": [
    "# removing all whitlespace from a string"
   ]
  },
  {
   "cell_type": "code",
   "execution_count": 39,
   "id": "4b9fb1f9",
   "metadata": {},
   "outputs": [
    {
     "name": "stdout",
     "output_type": "stream",
     "text": [
      "HelloNishantTiwari\n"
     ]
    }
   ],
   "source": [
    "b= \"     Hello     Nishant\"\n",
    "new= \"\".join(string.split())\n",
    "print(new)"
   ]
  },
  {
   "cell_type": "markdown",
   "id": "b44de9c3",
   "metadata": {},
   "source": [
    "# Checking if a string is a palindrome"
   ]
  },
  {
   "cell_type": "code",
   "execution_count": 42,
   "id": "59efd3c6",
   "metadata": {},
   "outputs": [],
   "source": [
    "string1= 'Data Scientist'\n",
    "if string1 == string1[::-1]:\n",
    "    print(\"String is a palindrome!\")"
   ]
  },
  {
   "cell_type": "markdown",
   "id": "d896057b",
   "metadata": {},
   "source": [
    "# Removing duplicates from a list:"
   ]
  },
  {
   "cell_type": "code",
   "execution_count": 46,
   "id": "6cda168f",
   "metadata": {},
   "outputs": [
    {
     "name": "stdout",
     "output_type": "stream",
     "text": [
      "rnMighc aeL\n"
     ]
    }
   ],
   "source": [
    "string3= \"Machine Learning\"\n",
    "new_string3=\"\".join(set(string3))\n",
    "print(new_string3)"
   ]
  },
  {
   "cell_type": "markdown",
   "id": "b5333f98",
   "metadata": {},
   "source": [
    "# counting the number of the words in a string:"
   ]
  },
  {
   "cell_type": "code",
   "execution_count": 48,
   "id": "ad8edd03",
   "metadata": {},
   "outputs": [
    {
     "name": "stdout",
     "output_type": "stream",
     "text": [
      "2\n"
     ]
    }
   ],
   "source": [
    "string5= 'Data Scientist'\n",
    "word_count= len(string5.split())\n",
    "print(word_count)"
   ]
  },
  {
   "cell_type": "markdown",
   "id": "637143a8",
   "metadata": {},
   "source": [
    "# Generating a random integer"
   ]
  },
  {
   "cell_type": "code",
   "execution_count": 52,
   "id": "d6750cd4",
   "metadata": {},
   "outputs": [
    {
     "name": "stdout",
     "output_type": "stream",
     "text": [
      "10\n"
     ]
    }
   ],
   "source": [
    "import random\n",
    "rd_number= random.randint(5,15)\n",
    "print(rd_number)"
   ]
  }
 ],
 "metadata": {
  "kernelspec": {
   "display_name": "Python 3 (ipykernel)",
   "language": "python",
   "name": "python3"
  },
  "language_info": {
   "codemirror_mode": {
    "name": "ipython",
    "version": 3
   },
   "file_extension": ".py",
   "mimetype": "text/x-python",
   "name": "python",
   "nbconvert_exporter": "python",
   "pygments_lexer": "ipython3",
   "version": "3.11.5"
  }
 },
 "nbformat": 4,
 "nbformat_minor": 5
}
